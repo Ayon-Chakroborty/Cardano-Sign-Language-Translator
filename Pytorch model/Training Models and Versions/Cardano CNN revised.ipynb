{
 "cells": [
  {
   "cell_type": "code",
   "execution_count": 1,
   "id": "925d224b",
   "metadata": {},
   "outputs": [],
   "source": [
    "import numpy as np\n",
    "import matplotlib.pyplot as plt\n",
    "import string\n",
    "import torch\n",
    "import torch.nn as nn\n",
    "import torch.nn.functional as F\n",
    "import torch.optim as optim\n",
    "import torchvision\n",
    "import seaborn as sns\n",
    "import pandas as pd\n",
    "from torchsummary import summary\n",
    "from torch.autograd import Variable\n",
    "from torch.utils.data import random_split\n",
    "from torch.utils.data import DataLoader, TensorDataset\n"
   ]
  },
  {
   "cell_type": "code",
   "execution_count": 2,
   "id": "52519f42",
   "metadata": {},
   "outputs": [],
   "source": [
    "# import the dataset\n",
    "raw_train_data = pd.read_csv('./SL Dataset/sign_mnist_train/sign_mnist_train.csv', sep=\",\")\n",
    "raw_test_data = pd.read_csv('./SL Dataset/sign_mnist_test/sign_mnist_test.csv', sep=\",\")"
   ]
  },
  {
   "cell_type": "code",
   "execution_count": 4,
   "id": "46dcbfd2",
   "metadata": {},
   "outputs": [
    {
     "name": "stdout",
     "output_type": "stream",
     "text": [
      "(27455, 785)\n",
      "(7172, 785)\n",
      "\n",
      "   label  pixel1  pixel2  pixel3  pixel4  pixel5  pixel6  pixel7  pixel8  \\\n",
      "0      3     107     118     127     134     139     143     146     150   \n",
      "1      6     155     157     156     156     156     157     156     158   \n",
      "2      2     187     188     188     187     187     186     187     188   \n",
      "3      2     211     211     212     212     211     210     211     210   \n",
      "4     13     164     167     170     172     176     179     180     184   \n",
      "\n",
      "   pixel9  ...  pixel775  pixel776  pixel777  pixel778  pixel779  pixel780  \\\n",
      "0     153  ...       207       207       207       207       206       206   \n",
      "1     158  ...        69       149       128        87        94       163   \n",
      "2     187  ...       202       201       200       199       198       199   \n",
      "3     210  ...       235       234       233       231       230       226   \n",
      "4     185  ...        92       105       105       108       133       163   \n",
      "\n",
      "   pixel781  pixel782  pixel783  pixel784  \n",
      "0       206       204       203       202  \n",
      "1       175       103       135       149  \n",
      "2       198       195       194       195  \n",
      "3       225       222       229       163  \n",
      "4       157       163       164       179  \n",
      "\n",
      "[5 rows x 785 columns]\n"
     ]
    }
   ],
   "source": [
    "print(raw_train_data.shape)\n",
    "print(raw_test_data.shape)\n",
    "print()\n",
    "print(raw_train_data.head(5))"
   ]
  },
  {
   "cell_type": "code",
   "execution_count": 5,
   "id": "f545ae10",
   "metadata": {},
   "outputs": [],
   "source": [
    "# Create a dictionary to show output as letters\n",
    "alphabet = {0:'A', 1:'B', 2:'C', 3:'D', 4:'E', 5:\"F\", 6:'G',\n",
    "             7:'H', 8:'I', 9:'J', 10:'K', 11:'L', 12:'M', 13:'N',\n",
    "        14:'O', 15:'P', 16:'Q', 17:'R', 18:'S', 19:'T', 20:'U', 21:'V', \n",
    "             22:'W', 23:'X', 24:'Y', 25:'Z'}"
   ]
  },
  {
   "cell_type": "code",
   "execution_count": 6,
   "id": "2f0c45ce",
   "metadata": {},
   "outputs": [],
   "source": [
    "# Convert to 2D nummpy arrays\n",
    "def Data2NParray(train_data, test_data):\n",
    "    train = train_data.copy(deep = True)\n",
    "    test = test_data.copy(deep = True)\n",
    "    train_img = train.iloc[:, 1:].to_numpy(dtype = 'float32')\n",
    "    test_img = test.iloc[:, 1:].to_numpy(dtype = 'float32')\n",
    "    return train_img, test_img"
   ]
  },
  {
   "cell_type": "code",
   "execution_count": 7,
   "id": "2581ee5c",
   "metadata": {},
   "outputs": [],
   "source": [
    "train_img, test_img = Data2NParray(raw_train_data, raw_test_data)\n",
    "train_labels = raw_train_data['label'].values\n",
    "test_labels = raw_test_data['label'].values"
   ]
  },
  {
   "cell_type": "code",
   "execution_count": 8,
   "id": "104e1a1f",
   "metadata": {},
   "outputs": [
    {
     "name": "stdout",
     "output_type": "stream",
     "text": [
      "21524720\n",
      "\n",
      "\n",
      "\n",
      "7172\n",
      "\n",
      "\n",
      "\n",
      "[ 3  6  2 ... 18 17 23]\n",
      "\n",
      "\n",
      "\n",
      "[ 6  5 10 ...  2  4  2]\n"
     ]
    }
   ],
   "source": [
    "print(train_img.size)\n",
    "print('\\n\\n')\n",
    "print(test_img.shape[0])\n",
    "print('\\n\\n')\n",
    "print(train_labels)\n",
    "print('\\n\\n')\n",
    "print(test_labels)"
   ]
  },
  {
   "cell_type": "code",
   "execution_count": 9,
   "id": "2fbbedc5",
   "metadata": {},
   "outputs": [],
   "source": [
    "# Reshape the images to 3d array of 1, 28, 28\n",
    "train_img = train_img.reshape(train_img.shape[0], 1, 28, 28)\n",
    "test_img = test_img.reshape(test_img.shape[0], 1, 28, 28)"
   ]
  },
  {
   "cell_type": "code",
   "execution_count": 10,
   "id": "69c603a0",
   "metadata": {},
   "outputs": [],
   "source": [
    "# Convert Numpy arrays into tensors\n",
    "train_img_tensor = torch.from_numpy(train_img)\n",
    "test_img_tensor = torch.from_numpy(test_img)\n",
    "\n",
    "train_label_tensor = torch.from_numpy(train_labels)\n",
    "test_label_tensor = torch.from_numpy(test_labels)"
   ]
  },
  {
   "cell_type": "code",
   "execution_count": 11,
   "id": "30f11c2e",
   "metadata": {},
   "outputs": [],
   "source": [
    "# Convert to a pytorch Dataset\n",
    "training_Dataset = TensorDataset(train_img_tensor, train_label_tensor)\n",
    "test_Dataset = TensorDataset(test_img_tensor, test_label_tensor)"
   ]
  },
  {
   "cell_type": "code",
   "execution_count": 12,
   "id": "56023bcc",
   "metadata": {},
   "outputs": [
    {
     "name": "stdout",
     "output_type": "stream",
     "text": [
      "27455 torch.Size([1, 28, 28]) tensor(3)\n"
     ]
    }
   ],
   "source": [
    "# Each image is now converted to a (1,28,28) tensor\n",
    "image, label = training_Dataset[0]\n",
    "print(len(training_Dataset), image.shape, label)"
   ]
  },
  {
   "cell_type": "code",
   "execution_count": 13,
   "id": "b5dd4170",
   "metadata": {},
   "outputs": [
    {
     "name": "stdout",
     "output_type": "stream",
     "text": [
      "torch.Size([1, 28, 28]) tensor(3)\n"
     ]
    },
    {
     "data": {
      "text/plain": [
       "tensor([[[107., 118., 127., 134., 139., 143., 146., 150., 153., 156., 158.,\n",
       "          160., 163., 165., 159., 166., 168., 170., 170., 171., 171., 171.,\n",
       "          172., 171., 171., 170., 170., 169.],\n",
       "         [111., 121., 129., 135., 141., 144., 148., 151., 154., 157., 160.,\n",
       "          163., 164., 170., 119., 152., 171., 171., 170., 171., 172., 172.,\n",
       "          172., 172., 172., 171., 171., 170.],\n",
       "         [113., 123., 131., 137., 142., 145., 150., 152., 155., 158., 161.,\n",
       "          163., 164., 172., 105., 142., 170., 171., 171., 171., 172., 172.,\n",
       "          173., 173., 172., 171., 171., 171.],\n",
       "         [116., 125., 133., 139., 143., 146., 151., 153., 156., 159., 162.,\n",
       "          163., 167., 167.,  95., 144., 171., 172., 172., 172., 172., 172.,\n",
       "          173., 173., 173., 172., 172., 171.],\n",
       "         [117., 126., 134., 140., 145., 149., 153., 156., 158., 161., 163.,\n",
       "          164., 175., 156.,  87., 154., 172., 173., 173., 173., 173., 173.,\n",
       "          174., 174., 174., 173., 172., 172.],\n",
       "         [119., 128., 136., 142., 146., 150., 153., 156., 159., 163., 165.,\n",
       "          164., 184., 148.,  89., 164., 172., 174., 174., 174., 174., 175.,\n",
       "          175., 174., 175., 174., 173., 173.],\n",
       "         [122., 130., 138., 143., 147., 150., 154., 158., 162., 165., 166.,\n",
       "          172., 181., 128.,  94., 170., 173., 175., 174., 175., 176., 177.,\n",
       "          177., 177., 177., 175., 175., 174.],\n",
       "         [122., 132., 139., 145., 149., 152., 156., 160., 163., 165., 166.,\n",
       "          181., 172., 103., 113., 175., 176., 178., 178., 179., 179., 179.,\n",
       "          179., 178., 179., 177., 175., 174.],\n",
       "         [125., 134., 141., 147., 150., 153., 157., 161., 164., 167., 168.,\n",
       "          184., 179., 116., 126., 165., 176., 179., 180., 180., 181., 180.,\n",
       "          180., 180., 179., 178., 177., 176.],\n",
       "         [128., 135., 142., 148., 152., 154., 158., 162., 165., 168., 170.,\n",
       "          187., 180., 156., 161., 124., 143., 179., 178., 178., 181., 182.,\n",
       "          181., 180., 181., 180., 179., 179.],\n",
       "         [129., 136., 144., 150., 153., 155., 159., 163., 166., 169., 172.,\n",
       "          187., 184., 153., 102., 117., 110., 175., 169., 154., 182., 183.,\n",
       "          183., 182., 182., 181., 181., 179.],\n",
       "         [131., 138., 145., 150., 155., 157., 161., 165., 168., 174., 190.,\n",
       "          189., 175., 146.,  94.,  97., 113., 151., 158., 129., 184., 184.,\n",
       "          184., 184., 183., 183., 182., 180.],\n",
       "         [131., 139., 146., 151., 155., 159., 163., 167., 175., 182., 179.,\n",
       "          171., 159., 114., 102.,  89., 121., 136., 136.,  96., 172., 186.,\n",
       "          186., 185., 185., 184., 182., 181.],\n",
       "         [131., 140., 147., 154., 157., 160., 164., 179., 186., 191., 187.,\n",
       "          180., 157., 100.,  88.,  84., 108., 111., 126.,  90., 120., 186.,\n",
       "          187., 187., 186., 185., 184., 182.],\n",
       "         [133., 141., 149., 155., 158., 160., 174., 201., 189., 165., 151.,\n",
       "          143., 146., 120.,  87.,  78.,  87.,  76., 108.,  98.,  96., 181.,\n",
       "          188., 187., 186., 186., 185., 183.],\n",
       "         [133., 141., 150., 156., 160., 161., 179., 197., 174., 135.,  99.,\n",
       "           72.,  95., 134.,  97.,  72.,  74.,  68., 116., 105., 108., 187.,\n",
       "          189., 187., 187., 186., 186., 185.],\n",
       "         [134., 143., 151., 156., 161., 163., 179., 194., 156., 110.,  74.,\n",
       "           42.,  52., 139.,  94.,  67.,  75.,  75., 118., 106., 129., 189.,\n",
       "          191., 190., 188., 188., 187., 186.],\n",
       "         [135., 144., 152., 158., 163., 163., 177., 193., 161., 122.,  84.,\n",
       "           43.,  71., 134.,  81.,  57.,  71.,  88., 112.,  98., 157., 193.,\n",
       "          193., 192., 190., 190., 189., 188.],\n",
       "         [136., 144., 152., 158., 162., 163., 176., 192., 164., 128.,  98.,\n",
       "           62.,  60., 100.,  71.,  76.,  96., 101., 105.,  95., 174., 195.,\n",
       "          194., 194., 194., 193., 191., 190.],\n",
       "         [137., 145., 152., 159., 164., 165., 178., 191., 164., 135., 113.,\n",
       "           82.,  59.,  87.,  98., 111., 120., 108.,  97., 108., 190., 196.,\n",
       "          195., 195., 194., 193., 193., 192.],\n",
       "         [139., 146., 154., 160., 164., 165., 175., 186., 163., 139., 112.,\n",
       "           85.,  67., 102., 126., 133., 126., 105., 104., 176., 197., 198.,\n",
       "          197., 196., 195., 195., 194., 193.],\n",
       "         [138., 147., 155., 161., 165., 167., 172., 186., 163., 137., 107.,\n",
       "           87.,  76., 106., 122., 125., 117.,  96., 156., 199., 199., 200.,\n",
       "          198., 196., 196., 195., 195., 194.],\n",
       "         [139., 148., 156., 163., 166., 168., 172., 180., 158., 131., 108.,\n",
       "           99.,  86., 108., 118., 116., 103., 107., 191., 202., 201., 200.,\n",
       "          200., 200., 199., 197., 198., 196.],\n",
       "         [140., 149., 157., 164., 168., 167., 177., 178., 155., 131., 118.,\n",
       "          105.,  87., 100., 106., 100.,  96., 164., 202., 202., 202., 202.,\n",
       "          202., 201., 200., 199., 199., 198.],\n",
       "         [140., 150., 157., 165., 167., 170., 181., 175., 152., 130., 115.,\n",
       "           98.,  82.,  85.,  90.,  99., 165., 202., 203., 204., 203., 203.,\n",
       "          202., 202., 201., 201., 200., 200.],\n",
       "         [142., 150., 159., 165., 170., 191., 173., 157., 144., 119.,  97.,\n",
       "           84.,  79.,  79.,  91., 172., 202., 203., 203., 205., 204., 204.,\n",
       "          204., 203., 202., 202., 201., 200.],\n",
       "         [142., 151., 160., 165., 188., 190., 187., 150., 119., 109.,  85.,\n",
       "           79.,  79.,  78., 137., 203., 205., 206., 206., 207., 207., 206.,\n",
       "          206., 204., 205., 204., 203., 202.],\n",
       "         [142., 151., 160., 172., 196., 188., 188., 190., 135.,  96.,  86.,\n",
       "           77.,  77.,  79., 176., 205., 207., 207., 207., 207., 207., 207.,\n",
       "          206., 206., 206., 204., 203., 202.]]])"
      ]
     },
     "execution_count": 13,
     "metadata": {},
     "output_type": "execute_result"
    }
   ],
   "source": [
    "img, label = training_Dataset[0]\n",
    "print(img.shape, label)\n",
    "img"
   ]
  },
  {
   "cell_type": "code",
   "execution_count": 14,
   "id": "6225d407",
   "metadata": {
    "scrolled": true
   },
   "outputs": [
    {
     "data": {
      "text/plain": [
       "(7455, 20000, 7172)"
      ]
     },
     "execution_count": 14,
     "metadata": {},
     "output_type": "execute_result"
    }
   ],
   "source": [
    "# Create validation set and training set\n",
    "validation_sz = 7455\n",
    "training_sz = len(training_Dataset) - validation_sz\n",
    "\n",
    "training_set, validation_set = random_split(training_Dataset, [training_sz, validation_sz])\n",
    "\n",
    "len(validation_set), len(training_set), len(test_Dataset)"
   ]
  },
  {
   "cell_type": "code",
   "execution_count": 15,
   "id": "7d6cf31a",
   "metadata": {},
   "outputs": [],
   "source": [
    "# Set Hyperparameters\n",
    "batch_size = 60\n",
    "learning_rate = 0.001\n",
    "num_epochs = 10\n",
    "opt_func = torch.optim.SGD\n"
   ]
  },
  {
   "cell_type": "code",
   "execution_count": 16,
   "id": "c0356407",
   "metadata": {},
   "outputs": [],
   "source": [
    "random_seed = 15\n",
    "torch.manual_seed(random_seed);"
   ]
  },
  {
   "cell_type": "code",
   "execution_count": 17,
   "id": "d3fb9286",
   "metadata": {},
   "outputs": [],
   "source": [
    "# Create DataLoaders for training and validation\n",
    "train_dl = DataLoader(training_set, batch_size, shuffle = True, num_workers=4, pin_memory=True)\n",
    "validation_dl = DataLoader(validation_set, batch_size*2, shuffle = True, num_workers=4, pin_memory=True)\n",
    "test_dl = DataLoader(test_Dataset, batch_size*2, num_workers=4, pin_memory=True)"
   ]
  },
  {
   "cell_type": "code",
   "execution_count": 18,
   "id": "55ef456e",
   "metadata": {},
   "outputs": [],
   "source": [
    "# Create Network class and make helper methods for training and validation\n",
    "class Network(nn.Module):\n",
    "    def training_step(self, batch):\n",
    "        images, labels = batch\n",
    "        # Generate Predictions\n",
    "        out = self(images)\n",
    "        # Calculate Loss\n",
    "        loss = F.cross_entropy(out, labels)\n",
    "        return loss\n",
    "    \n",
    "    def validation_step(self, batch):\n",
    "        images, labels = batch\n",
    "        # Generate Predictions\n",
    "        out = self(images)\n",
    "        # Calculate Loss\n",
    "        loss = F.cross_entropy(out, labels)\n",
    "        # Calculate Accuracy\n",
    "        acc = accuracy(out, labels)\n",
    "        return{'val_loss': loss.detach(),'val_accuracy': acc}\n",
    "    \n",
    "    def validation_epoch_end(self, outputs):\n",
    "        batch_losses = [x['val_loss'] for x in outputs]\n",
    "        # Combine Losses\n",
    "        epoch_loss = torch.stack(batch_losses).mean()\n",
    "        batch_acc = [x['val_accuracy'] for x in outputs]\n",
    "        # Combine Accuracies\n",
    "        epoch_acc = torch.stack(batch_acc).mean()\n",
    "        return {'val_loss': epoch_loss.item(), 'val_accuracy': epoch_acc.item()}\n",
    "    \n",
    "    def epoch_end(self, epoch, result):\n",
    "        print(\"Epoch [{}], train loss: {:.3f}, val loss {:.3f}, val acc: {:.4f}\".format(\n",
    "            epoch, result['train_loss'], result['val_loss'], result['val_accuracy']))\n",
    "\n",
    "def accuracy(outputs, labels):\n",
    "    _, preds = torch.max(outputs, dim=1)\n",
    "    return torch.tensor(torch.sum(preds == labels).item() / len(preds))\n",
    "        "
   ]
  },
  {
   "cell_type": "code",
   "execution_count": 19,
   "id": "67e867cc",
   "metadata": {},
   "outputs": [],
   "source": [
    "class CNNModel(Network):\n",
    "    def __init__(self, in_channels, num_classes):\n",
    "        super().__init__()\n",
    "        self.network = nn.Sequential(\n",
    "            nn.Conv2d(in_channels, 28, kernel_size=3, padding=1),\n",
    "            nn.ReLU(),\n",
    "            nn.Conv2d(28, 28, kernel_size=3, stride=1, padding=1),\n",
    "            nn.ReLU(),\n",
    "            nn.MaxPool2d(2,2), # Ouput image size: 28x14x14\n",
    "\n",
    "            nn.Conv2d(28, 56, kernel_size=3, stride=1, padding=1),\n",
    "            nn.ReLU(),\n",
    "            nn.Conv2d(56, 56, kernel_size=3, stride=1, padding=1),\n",
    "            nn.ReLU(),\n",
    "            nn.MaxPool2d(2,2), # Ouput image size: 56x7x7\n",
    "\n",
    "            nn.Flatten(),\n",
    "            nn.Linear(56*7*7, 512),\n",
    "            nn.ReLU(),\n",
    "            nn.Linear(512, 128),\n",
    "            nn.ReLU(),\n",
    "            nn.Linear(128, num_classes))\n",
    "    \n",
    "    def forward(self, xb):\n",
    "        return self.network(xb)"
   ]
  },
  {
   "cell_type": "code",
   "execution_count": 20,
   "id": "56de5dbd",
   "metadata": {},
   "outputs": [],
   "source": [
    "# Constants for training Model\n",
    "input_ch = 1\n",
    "input_size = input_ch * 28 * 28\n",
    "classes = 26"
   ]
  },
  {
   "cell_type": "code",
   "execution_count": 21,
   "id": "ba1481b0",
   "metadata": {},
   "outputs": [
    {
     "data": {
      "text/plain": [
       "CNNModel(\n",
       "  (network): Sequential(\n",
       "    (0): Conv2d(1, 28, kernel_size=(3, 3), stride=(1, 1), padding=(1, 1))\n",
       "    (1): ReLU()\n",
       "    (2): Conv2d(28, 28, kernel_size=(3, 3), stride=(1, 1), padding=(1, 1))\n",
       "    (3): ReLU()\n",
       "    (4): MaxPool2d(kernel_size=2, stride=2, padding=0, dilation=1, ceil_mode=False)\n",
       "    (5): Conv2d(28, 56, kernel_size=(3, 3), stride=(1, 1), padding=(1, 1))\n",
       "    (6): ReLU()\n",
       "    (7): Conv2d(56, 56, kernel_size=(3, 3), stride=(1, 1), padding=(1, 1))\n",
       "    (8): ReLU()\n",
       "    (9): MaxPool2d(kernel_size=2, stride=2, padding=0, dilation=1, ceil_mode=False)\n",
       "    (10): Flatten(start_dim=1, end_dim=-1)\n",
       "    (11): Linear(in_features=2744, out_features=512, bias=True)\n",
       "    (12): ReLU()\n",
       "    (13): Linear(in_features=512, out_features=128, bias=True)\n",
       "    (14): ReLU()\n",
       "    (15): Linear(in_features=128, out_features=26, bias=True)\n",
       "  )\n",
       ")"
      ]
     },
     "execution_count": 21,
     "metadata": {},
     "output_type": "execute_result"
    }
   ],
   "source": [
    "model = CNNModel(input_ch, classes)\n",
    "model"
   ]
  },
  {
   "cell_type": "code",
   "execution_count": 22,
   "id": "febb6a70",
   "metadata": {},
   "outputs": [],
   "source": [
    "    \n",
    "def to_device(data, device):\n",
    "    # Move Tensors to a chosen device\n",
    "    if isinstance(data, (list, tuple)):\n",
    "        return [to_device(x, device) for x in data]\n",
    "    return data.to(device, non_blocking=True)\n",
    "\n",
    "class DeviceDataLoader():\n",
    "    # Move Data to the device\n",
    "    def __init__(self, dl, device):\n",
    "        self.dl = dl\n",
    "        self.device = device\n",
    "    \n",
    "    def __iter__(self):\n",
    "        for batch in self.dl:\n",
    "            yield to_device(batch, self.device)\n",
    "            \n",
    "    def __len(self):\n",
    "        # Number of batches\n",
    "        return len(self.dl)\n",
    "    "
   ]
  },
  {
   "cell_type": "code",
   "execution_count": 23,
   "id": "8f02c5cb",
   "metadata": {},
   "outputs": [
    {
     "data": {
      "text/plain": [
       "device(type='cuda')"
      ]
     },
     "execution_count": 23,
     "metadata": {},
     "output_type": "execute_result"
    }
   ],
   "source": [
    "device = torch.device('cuda') if torch.cuda.is_available() else torch.device('cpu')\n",
    "device"
   ]
  },
  {
   "cell_type": "code",
   "execution_count": 24,
   "id": "af3f30ec",
   "metadata": {},
   "outputs": [],
   "source": [
    "model = to_device(CNNModel(input_ch, classes), device)"
   ]
  },
  {
   "cell_type": "code",
   "execution_count": 25,
   "id": "0d2371fb",
   "metadata": {},
   "outputs": [
    {
     "name": "stdout",
     "output_type": "stream",
     "text": [
      "cuda\n",
      "cuda\n",
      "cuda\n"
     ]
    }
   ],
   "source": [
    "train_dl = DeviceDataLoader(train_dl, device)\n",
    "val_dl = DeviceDataLoader(validation_dl, device)\n",
    "test_dl = DeviceDataLoader(test_dl, device)\n",
    "\n",
    "print(train_dl.device)\n",
    "print(test_dl.device)\n",
    "print(val_dl.device)"
   ]
  },
  {
   "cell_type": "code",
   "execution_count": 26,
   "id": "62a6fb6c",
   "metadata": {},
   "outputs": [],
   "source": [
    "# Training the Model\n",
    "\n",
    "@torch.no_grad()\n",
    "def evaluate(model, val_dl):\n",
    "    model.eval()\n",
    "    outputs = [model.validation_step(batch) for batch in val_dl]\n",
    "    return model.validation_epoch_end(outputs)\n",
    "\n",
    "def fit(epochs, lr, model, train_loader, val_loader, opt_func=torch.optim.SGD):\n",
    "    history = []\n",
    "    optimizer = opt_func(model.parameters(), lr)\n",
    "    for epoch in range(epochs):\n",
    "        # Training phase\n",
    "        model.train()\n",
    "        train_losses = []\n",
    "        for batch in train_loader:\n",
    "            loss = model.training_step(batch)\n",
    "            train_losses.append(loss)\n",
    "            loss.backward()\n",
    "            optimizer.step()\n",
    "            optimizer.zero_grad()\n",
    "            \n",
    "        # Validation phase\n",
    "        result = evaluate(model, val_loader)\n",
    "        result['train_loss'] = torch.stack(train_losses).mean().item()\n",
    "        model.epoch_end(epoch, result)\n",
    "        history.append(result)\n",
    "    return history"
   ]
  },
  {
   "cell_type": "code",
   "execution_count": 27,
   "id": "55eb0af8",
   "metadata": {},
   "outputs": [
    {
     "data": {
      "text/plain": [
       "{'val_loss': 3.3297271728515625, 'val_accuracy': 0.034656085073947906}"
      ]
     },
     "execution_count": 27,
     "metadata": {},
     "output_type": "execute_result"
    }
   ],
   "source": [
    "evaluate(model, val_dl)"
   ]
  },
  {
   "cell_type": "code",
   "execution_count": 28,
   "id": "8097c070",
   "metadata": {},
   "outputs": [
    {
     "name": "stdout",
     "output_type": "stream",
     "text": [
      "Epoch [0], train loss: 3.111, val loss 3.069, val acc: 0.1078\n",
      "Epoch [1], train loss: 2.224, val loss 2.219, val acc: 0.3351\n",
      "Epoch [2], train loss: 1.117, val loss 1.070, val acc: 0.6690\n",
      "Epoch [3], train loss: 0.570, val loss 0.499, val acc: 0.8200\n",
      "Epoch [4], train loss: 0.276, val loss 0.154, val acc: 0.9606\n",
      "Epoch [5], train loss: 0.126, val loss 0.343, val acc: 0.8987\n",
      "Epoch [6], train loss: 0.058, val loss 0.107, val acc: 0.9661\n",
      "Epoch [7], train loss: 0.048, val loss 0.022, val acc: 0.9989\n",
      "Epoch [8], train loss: 0.014, val loss 0.020, val acc: 0.9984\n",
      "Epoch [9], train loss: 0.009, val loss 0.008, val acc: 0.9999\n"
     ]
    }
   ],
   "source": [
    "history = fit(num_epochs, learning_rate , model, train_dl, val_dl, opt_func)\n"
   ]
  },
  {
   "cell_type": "code",
   "execution_count": 29,
   "id": "34c86b12",
   "metadata": {},
   "outputs": [],
   "source": [
    "def plot_losses(history):\n",
    "    train_losses = [x.get('train_loss') for x in history]\n",
    "    val_losses = [x['val_loss'] for x in history]\n",
    "    plt.plot(train_losses, '-bx')\n",
    "    plt.plot(val_losses, '-rx')\n",
    "    plt.xlabel('epoch')\n",
    "    plt.ylabel('loss')\n",
    "    plt.legend(['Training', 'Validation'])\n",
    "    plt.title('Loss vs. No. of epochs');"
   ]
  },
  {
   "cell_type": "code",
   "execution_count": 30,
   "id": "f4900277",
   "metadata": {},
   "outputs": [
    {
     "data": {
      "image/png": "[encoded data removed]",
      "text/plain": [
       "<Figure size 432x288 with 1 Axes>"
      ]
     },
     "metadata": {
      "needs_background": "light"
     },
     "output_type": "display_data"
    }
   ],
   "source": [
    "plot_losses(history)\n"
   ]
  },
  {
   "cell_type": "code",
   "execution_count": 31,
   "id": "a079905c",
   "metadata": {},
   "outputs": [
    {
     "data": {
      "text/plain": [
       "{'val_loss': 0.42141038179397583, 'val_accuracy': 0.8872584700584412}"
      ]
     },
     "execution_count": 31,
     "metadata": {},
     "output_type": "execute_result"
    }
   ],
   "source": [
    "# Test with the tesing dataloader\n",
    "result = evaluate(model, test_dl)\n",
    "result"
   ]
  },
  {
   "cell_type": "code",
   "execution_count": 32,
   "id": "836d7246",
   "metadata": {},
   "outputs": [],
   "source": [
    "def predict_image(img, model):\n",
    "    # Convert to a batch of 1\n",
    "    xb = to_device(img.unsqueeze(0), device)\n",
    "    # Get predictions from model\n",
    "    yb = model(xb)\n",
    "    # Pick index with highest probability\n",
    "    _, preds  = torch.max(yb, dim=1)\n",
    "    # Retrieve the class label\n",
    "    return preds[0].item()"
   ]
  },
  {
   "cell_type": "code",
   "execution_count": 33,
   "id": "9279cd43",
   "metadata": {},
   "outputs": [
    {
     "name": "stdout",
     "output_type": "stream",
     "text": [
      "Label: tensor(6) , Predicted: 6\n",
      "Label: tensor(5) , Predicted: 5\n",
      "Label: tensor(10) , Predicted: 10\n",
      "Label: tensor(0) , Predicted: 0\n",
      "Label: tensor(3) , Predicted: 3\n",
      "Label: tensor(21) , Predicted: 22\n",
      "Label: tensor(10) , Predicted: 10\n",
      "Label: tensor(14) , Predicted: 14\n",
      "Label: tensor(3) , Predicted: 3\n",
      "Label: tensor(7) , Predicted: 7\n"
     ]
    }
   ],
   "source": [
    "for x in range(10):\n",
    "    img, label = test_Dataset[x]\n",
    "    print('Label:', label, ', Predicted:', predict_image(img, model))\n",
    "    "
   ]
  },
  {
   "cell_type": "code",
   "execution_count": 107,
   "id": "e826a53a",
   "metadata": {},
   "outputs": [
    {
     "data": {
      "application/javascript": [
       "window.require && require([\"base/js/namespace\"],function(Jupyter){Jupyter.notebook.save_checkpoint()})"
      ],
      "text/plain": [
       "<IPython.core.display.Javascript object>"
      ]
     },
     "metadata": {},
     "output_type": "display_data"
    },
    {
     "name": "stdout",
     "output_type": "stream",
     "text": [
      "[jovian] Updating notebook \"ayon-chakroborty/cardano-cnn-revised\" on https://jovian.ai/\u001b[0m\n",
      "[jovian] Committed successfully! https://jovian.ai/ayon-chakroborty/cardano-cnn-revised\u001b[0m\n"
     ]
    },
    {
     "data": {
      "text/plain": [
       "'https://jovian.ai/ayon-chakroborty/cardano-cnn-revised'"
      ]
     },
     "execution_count": 107,
     "metadata": {},
     "output_type": "execute_result"
    }
   ],
   "source": [
    "jovian.commit()"
   ]
  },
  {
   "cell_type": "code",
   "execution_count": 34,
   "id": "f7d3d511",
   "metadata": {},
   "outputs": [],
   "source": [
    "# Save Pytorch Model\n",
    "FILE = \"/home/ayon_chakroborty/Desktop/Cardano DNN/model2.pth\"\n",
    "torch.save(model.state_dict(), FILE)"
   ]
  },
  {
   "cell_type": "code",
   "execution_count": 35,
   "id": "ba656515",
   "metadata": {},
   "outputs": [
    {
     "data": {
      "text/plain": [
       "CNNModel(\n",
       "  (network): Sequential(\n",
       "    (0): Conv2d(1, 28, kernel_size=(3, 3), stride=(1, 1), padding=(1, 1))\n",
       "    (1): ReLU()\n",
       "    (2): Conv2d(28, 28, kernel_size=(3, 3), stride=(1, 1), padding=(1, 1))\n",
       "    (3): ReLU()\n",
       "    (4): MaxPool2d(kernel_size=2, stride=2, padding=0, dilation=1, ceil_mode=False)\n",
       "    (5): Conv2d(28, 56, kernel_size=(3, 3), stride=(1, 1), padding=(1, 1))\n",
       "    (6): ReLU()\n",
       "    (7): Conv2d(56, 56, kernel_size=(3, 3), stride=(1, 1), padding=(1, 1))\n",
       "    (8): ReLU()\n",
       "    (9): MaxPool2d(kernel_size=2, stride=2, padding=0, dilation=1, ceil_mode=False)\n",
       "    (10): Flatten(start_dim=1, end_dim=-1)\n",
       "    (11): Linear(in_features=2744, out_features=512, bias=True)\n",
       "    (12): ReLU()\n",
       "    (13): Linear(in_features=512, out_features=128, bias=True)\n",
       "    (14): ReLU()\n",
       "    (15): Linear(in_features=128, out_features=26, bias=True)\n",
       "  )\n",
       ")"
      ]
     },
     "execution_count": 35,
     "metadata": {},
     "output_type": "execute_result"
    }
   ],
   "source": [
    "# Load the saved Model\n",
    "loaded_model = CNNModel(input_ch, classes)\n",
    "loaded_model.load_state_dict(torch.load(FILE))\n",
    "loaded_model.eval()"
   ]
  },
  {
   "cell_type": "code",
   "execution_count": 36,
   "id": "14932821",
   "metadata": {},
   "outputs": [
    {
     "name": "stdout",
     "output_type": "stream",
     "text": [
      "Label: tensor(6) , Predicted: 6\n",
      "Label: tensor(5) , Predicted: 5\n",
      "Label: tensor(10) , Predicted: 10\n",
      "Label: tensor(0) , Predicted: 0\n",
      "Label: tensor(3) , Predicted: 3\n",
      "Label: tensor(21) , Predicted: 22\n",
      "Label: tensor(10) , Predicted: 10\n",
      "Label: tensor(14) , Predicted: 14\n",
      "Label: tensor(3) , Predicted: 3\n",
      "Label: tensor(7) , Predicted: 7\n"
     ]
    }
   ],
   "source": [
    "# Test the loaded Model\n",
    "loaded_model = to_device(loaded_model, device)\n",
    "for x in range(10):\n",
    "    img, label = test_Dataset[x]\n",
    "    print('Label:', label, ', Predicted:', predict_image(img, loaded_model))"
   ]
  },
  {
   "cell_type": "code",
   "execution_count": 37,
   "id": "aa224591",
   "metadata": {},
   "outputs": [
    {
     "data": {
      "text/plain": [
       "{'val_loss': 0.42141038179397583, 'val_accuracy': 0.8872584700584412}"
      ]
     },
     "execution_count": 37,
     "metadata": {},
     "output_type": "execute_result"
    }
   ],
   "source": [
    "# Test the loaded Model with test dataset\n",
    "ld_result = evaluate(loaded_model, test_dl)\n",
    "ld_result"
   ]
  },
  {
   "cell_type": "code",
   "execution_count": 122,
   "id": "a4d91b22",
   "metadata": {},
   "outputs": [
    {
     "data": {
      "application/javascript": [
       "window.require && require([\"base/js/namespace\"],function(Jupyter){Jupyter.notebook.save_checkpoint()})"
      ],
      "text/plain": [
       "<IPython.core.display.Javascript object>"
      ]
     },
     "metadata": {},
     "output_type": "display_data"
    },
    {
     "name": "stdout",
     "output_type": "stream",
     "text": [
      "[jovian] Updating notebook \"ayon-chakroborty/cardano-cnn-revised\" on https://jovian.ai/\u001b[0m\n",
      "[jovian] Committed successfully! https://jovian.ai/ayon-chakroborty/cardano-cnn-revised\u001b[0m\n"
     ]
    },
    {
     "data": {
      "text/plain": [
       "'https://jovian.ai/ayon-chakroborty/cardano-cnn-revised'"
      ]
     },
     "execution_count": 122,
     "metadata": {},
     "output_type": "execute_result"
    }
   ],
   "source": [
    "jovian.commit()"
   ]
  },
  {
   "cell_type": "code",
   "execution_count": 38,
   "id": "413e627a",
   "metadata": {},
   "outputs": [
    {
     "name": "stdout",
     "output_type": "stream",
     "text": [
      "graph(%input.1 : Float(1, 1, 28, 28, strides=[784, 784, 28, 1], requires_grad=0, device=cuda:0),\n",
      "      %network.0.weight : Float(28, 1, 3, 3, strides=[9, 9, 3, 1], requires_grad=1, device=cuda:0),\n",
      "      %network.0.bias : Float(28, strides=[1], requires_grad=1, device=cuda:0),\n",
      "      %network.2.weight : Float(28, 28, 3, 3, strides=[252, 9, 3, 1], requires_grad=1, device=cuda:0),\n",
      "      %network.2.bias : Float(28, strides=[1], requires_grad=1, device=cuda:0),\n",
      "      %network.5.weight : Float(56, 28, 3, 3, strides=[252, 9, 3, 1], requires_grad=1, device=cuda:0),\n",
      "      %network.5.bias : Float(56, strides=[1], requires_grad=1, device=cuda:0),\n",
      "      %network.7.weight : Float(56, 56, 3, 3, strides=[504, 9, 3, 1], requires_grad=1, device=cuda:0),\n",
      "      %network.7.bias : Float(56, strides=[1], requires_grad=1, device=cuda:0),\n",
      "      %network.11.weight : Float(512, 2744, strides=[2744, 1], requires_grad=1, device=cuda:0),\n",
      "      %network.11.bias : Float(512, strides=[1], requires_grad=1, device=cuda:0),\n",
      "      %network.13.weight : Float(128, 512, strides=[512, 1], requires_grad=1, device=cuda:0),\n",
      "      %network.13.bias : Float(128, strides=[1], requires_grad=1, device=cuda:0),\n",
      "      %network.15.weight : Float(26, 128, strides=[128, 1], requires_grad=1, device=cuda:0),\n",
      "      %network.15.bias : Float(26, strides=[1], requires_grad=1, device=cuda:0)):\n",
      "  %15 : Float(1, 28, 28, 28, strides=[21952, 784, 28, 1], requires_grad=1, device=cuda:0) = onnx::Conv[dilations=[1, 1], group=1, kernel_shape=[3, 3], pads=[1, 1, 1, 1], strides=[1, 1]](%input.1, %network.0.weight, %network.0.bias) # /home/ayon_chakroborty/cv-env/lib/python3.9/site-packages/torch/nn/modules/conv.py:442:0\n",
      "  %16 : Float(1, 28, 28, 28, strides=[21952, 784, 28, 1], requires_grad=1, device=cuda:0) = onnx::Relu(%15) # /home/ayon_chakroborty/cv-env/lib/python3.9/site-packages/torch/nn/functional.py:1299:0\n",
      "  %17 : Float(1, 28, 28, 28, strides=[21952, 784, 28, 1], requires_grad=1, device=cuda:0) = onnx::Conv[dilations=[1, 1], group=1, kernel_shape=[3, 3], pads=[1, 1, 1, 1], strides=[1, 1]](%16, %network.2.weight, %network.2.bias) # /home/ayon_chakroborty/cv-env/lib/python3.9/site-packages/torch/nn/modules/conv.py:442:0\n",
      "  %18 : Float(1, 28, 28, 28, strides=[21952, 784, 28, 1], requires_grad=1, device=cuda:0) = onnx::Relu(%17) # /home/ayon_chakroborty/cv-env/lib/python3.9/site-packages/torch/nn/functional.py:1299:0\n",
      "  %19 : Float(1, 28, 14, 14, strides=[5488, 196, 14, 1], requires_grad=1, device=cuda:0) = onnx::MaxPool[kernel_shape=[2, 2], pads=[0, 0, 0, 0], strides=[2, 2]](%18) # /home/ayon_chakroborty/cv-env/lib/python3.9/site-packages/torch/nn/functional.py:719:0\n",
      "  %20 : Float(1, 56, 14, 14, strides=[10976, 196, 14, 1], requires_grad=1, device=cuda:0) = onnx::Conv[dilations=[1, 1], group=1, kernel_shape=[3, 3], pads=[1, 1, 1, 1], strides=[1, 1]](%19, %network.5.weight, %network.5.bias) # /home/ayon_chakroborty/cv-env/lib/python3.9/site-packages/torch/nn/modules/conv.py:442:0\n",
      "  %21 : Float(1, 56, 14, 14, strides=[10976, 196, 14, 1], requires_grad=1, device=cuda:0) = onnx::Relu(%20) # /home/ayon_chakroborty/cv-env/lib/python3.9/site-packages/torch/nn/functional.py:1299:0\n",
      "  %22 : Float(1, 56, 14, 14, strides=[10976, 196, 14, 1], requires_grad=1, device=cuda:0) = onnx::Conv[dilations=[1, 1], group=1, kernel_shape=[3, 3], pads=[1, 1, 1, 1], strides=[1, 1]](%21, %network.7.weight, %network.7.bias) # /home/ayon_chakroborty/cv-env/lib/python3.9/site-packages/torch/nn/modules/conv.py:442:0\n",
      "  %23 : Float(1, 56, 14, 14, strides=[10976, 196, 14, 1], requires_grad=1, device=cuda:0) = onnx::Relu(%22) # /home/ayon_chakroborty/cv-env/lib/python3.9/site-packages/torch/nn/functional.py:1299:0\n",
      "  %24 : Float(1, 56, 7, 7, strides=[2744, 49, 7, 1], requires_grad=1, device=cuda:0) = onnx::MaxPool[kernel_shape=[2, 2], pads=[0, 0, 0, 0], strides=[2, 2]](%23) # /home/ayon_chakroborty/cv-env/lib/python3.9/site-packages/torch/nn/functional.py:719:0\n",
      "  %25 : Float(1, 2744, strides=[2744, 1], requires_grad=1, device=cuda:0) = onnx::Flatten[axis=1](%24) # /home/ayon_chakroborty/cv-env/lib/python3.9/site-packages/torch/nn/modules/flatten.py:42:0\n",
      "  %26 : Float(1, 512, strides=[512, 1], requires_grad=1, device=cuda:0) = onnx::Gemm[alpha=1., beta=1., transB=1](%25, %network.11.weight, %network.11.bias) # /home/ayon_chakroborty/cv-env/lib/python3.9/site-packages/torch/nn/functional.py:1848:0\n",
      "  %27 : Float(1, 512, strides=[512, 1], requires_grad=1, device=cuda:0) = onnx::Relu(%26) # /home/ayon_chakroborty/cv-env/lib/python3.9/site-packages/torch/nn/functional.py:1299:0\n",
      "  %28 : Float(1, 128, strides=[128, 1], requires_grad=1, device=cuda:0) = onnx::Gemm[alpha=1., beta=1., transB=1](%27, %network.13.weight, %network.13.bias) # /home/ayon_chakroborty/cv-env/lib/python3.9/site-packages/torch/nn/functional.py:1848:0\n",
      "  %29 : Float(1, 128, strides=[128, 1], requires_grad=1, device=cuda:0) = onnx::Relu(%28) # /home/ayon_chakroborty/cv-env/lib/python3.9/site-packages/torch/nn/functional.py:1299:0\n",
      "  %30 : Float(1, 26, strides=[26, 1], requires_grad=1, device=cuda:0) = onnx::Gemm[alpha=1., beta=1., transB=1](%29, %network.15.weight, %network.15.bias) # /home/ayon_chakroborty/cv-env/lib/python3.9/site-packages/torch/nn/functional.py:1848:0\n",
      "  return (%30)\n",
      "\n"
     ]
    }
   ],
   "source": [
    "onnx_model_path = \"/home/ayon_chakroborty/Desktop/Cardano DNN/CNNmodel_version_2.onnx\"\n",
    "x = torch.randn(1, 1, 28, 28, device='cuda') # Sample input in the shape that the model expects\n",
    "torch.onnx.export(model, x, onnx_model_path, verbose=True)"
   ]
  },
  {
   "cell_type": "code",
   "execution_count": null,
   "id": "be257ffc",
   "metadata": {},
   "outputs": [],
   "source": []
  }
 ],
 "metadata": {
  "kernelspec": {
   "display_name": "Python 3 (ipykernel)",
   "language": "python",
   "name": "python3"
  },
  "language_info": {
   "codemirror_mode": {
    "name": "ipython",
    "version": 3
   },
   "file_extension": ".py",
   "mimetype": "text/x-python",
   "name": "python",
   "nbconvert_exporter": "python",
   "pygments_lexer": "ipython3",
   "version": "3.9.5"
  }
 },
 "nbformat": 4,
 "nbformat_minor": 5
}
