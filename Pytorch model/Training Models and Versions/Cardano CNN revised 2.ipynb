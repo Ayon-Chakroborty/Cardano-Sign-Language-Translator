{
 "cells": [
  {
   "cell_type": "code",
   "execution_count": 73,
   "id": "ae9a56d7",
   "metadata": {},
   "outputs": [],
   "source": [
    "import torch\n",
    "import torch.nn as nn\n",
    "import numpy\n",
    "import pandas as pd\n",
    "from torch.utils.data import DataLoader, TensorDataset\n",
    "from torch.utils.data import random_split\n",
    "import torch.optim as optim\n",
    "import torch.nn.functional as F"
   ]
  },
  {
   "cell_type": "code",
   "execution_count": 74,
   "id": "589ac071",
   "metadata": {},
   "outputs": [],
   "source": [
    "# import the datasett\n",
    "raw_train_data = pd.read_csv('./SL Dataset/sign_mnist_train/sign_mnist_train.csv', sep=\",\")\n",
    "raw_test_data = pd.read_csv('./SL Dataset/sign_mnist_test/sign_mnist_test.csv', sep=\",\")\n"
   ]
  },
  {
   "cell_type": "code",
   "execution_count": 75,
   "id": "2edd733d",
   "metadata": {},
   "outputs": [
    {
     "name": "stdout",
     "output_type": "stream",
     "text": [
      "(27455, 785)\n",
      "(7172, 785)\n"
     ]
    }
   ],
   "source": [
    "print(raw_train_data.shape)\n",
    "print(raw_test_data.shape)"
   ]
  },
  {
   "cell_type": "code",
   "execution_count": 76,
   "id": "8be9364c",
   "metadata": {},
   "outputs": [],
   "source": [
    "# Convert to 2D numpy arrays\n",
    "def Data2NParray(train_data, test_data):\n",
    "    train = train_data.copy(deep=True)\n",
    "    test = test_data.copy(deep=True)\n",
    "    train_img = train.iloc[:, 1:].to_numpy(dtype='float32')\n",
    "    test_img = test.iloc[:, 1:].to_numpy(dtype='float32')\n",
    "    return train_img, test_img"
   ]
  },
  {
   "cell_type": "code",
   "execution_count": 77,
   "id": "33b540e0",
   "metadata": {},
   "outputs": [],
   "source": [
    "train_img, test_img = Data2NParray(raw_train_data, raw_test_data)"
   ]
  },
  {
   "cell_type": "code",
   "execution_count": 78,
   "id": "934e6bc9",
   "metadata": {},
   "outputs": [],
   "source": [
    "train_labels = raw_train_data['label'].values\n",
    "test_labels = raw_test_data['label'].values"
   ]
  },
  {
   "cell_type": "code",
   "execution_count": 79,
   "id": "5fcee130",
   "metadata": {},
   "outputs": [],
   "source": [
    "# Resape the images to a 3d array 1x28x28\n",
    "train_img = train_img.reshape(train_img.shape[0], 1, 28, 28)\n",
    "test_img = test_img.reshape(test_img.shape[0], 1, 28, 28)"
   ]
  },
  {
   "cell_type": "code",
   "execution_count": 80,
   "id": "c3e3fa3e",
   "metadata": {},
   "outputs": [],
   "source": [
    "# Convert numpy arrays to tensors\n",
    "train_img_tensor = torch.from_numpy(train_img)\n",
    "train_label_tensor = torch.from_numpy(train_labels)\n",
    "\n",
    "test_img_tensor = torch.from_numpy(test_img)\n",
    "test_label_tensor = torch.from_numpy(test_labels)"
   ]
  },
  {
   "cell_type": "code",
   "execution_count": 81,
   "id": "8d844815",
   "metadata": {},
   "outputs": [],
   "source": [
    "# Convert to pytorch Dataset\n",
    "training_Dataset = TensorDataset(train_img_tensor, train_label_tensor)\n",
    "test_Dataset = TensorDataset(test_img_tensor, test_label_tensor)\n"
   ]
  },
  {
   "cell_type": "code",
   "execution_count": 82,
   "id": "e9b42669",
   "metadata": {},
   "outputs": [
    {
     "name": "stdout",
     "output_type": "stream",
     "text": [
      "27455 torch.Size([1, 28, 28]) tensor(3)\n"
     ]
    }
   ],
   "source": [
    "# Each image is now converted to a (1,28,28) tensor\n",
    "image, label = training_Dataset[0]\n",
    "print(len(training_Dataset), image.shape, label)"
   ]
  },
  {
   "cell_type": "code",
   "execution_count": 83,
   "id": "11442c78",
   "metadata": {},
   "outputs": [
    {
     "data": {
      "text/plain": [
       "(7455, 20000, 7172)"
      ]
     },
     "execution_count": 83,
     "metadata": {},
     "output_type": "execute_result"
    }
   ],
   "source": [
    "# Create Validation set and Training Set\n",
    "validation_sz = 7455\n",
    "training_sz = len(training_Dataset) - validation_sz\n",
    "\n",
    "training_set, validation_set = random_split(training_Dataset, [training_sz, validation_sz])\n",
    "\n",
    "len(validation_set), len(training_set), len(test_Dataset)"
   ]
  },
  {
   "cell_type": "code",
   "execution_count": 84,
   "id": "655826b0",
   "metadata": {},
   "outputs": [],
   "source": [
    "# Set Hyperparmeters\n",
    "batch_size = 35\n",
    "learning_rate = 0.001\n",
    "num_epochs = 5\n",
    "opt_func = torch.optim.SGD\n",
    "\n",
    "# Set constants for training the model\n",
    "input_ch = 1\n",
    "input_size = input_ch * 28 * 28\n",
    "classes = 26"
   ]
  },
  {
   "cell_type": "code",
   "execution_count": 85,
   "id": "4b2e8152",
   "metadata": {},
   "outputs": [
    {
     "data": {
      "text/plain": [
       "<torch._C.Generator at 0x7f4e7016bc50>"
      ]
     },
     "execution_count": 85,
     "metadata": {},
     "output_type": "execute_result"
    }
   ],
   "source": [
    "random_seed = 16\n",
    "torch.manual_seed(random_seed)"
   ]
  },
  {
   "cell_type": "code",
   "execution_count": 86,
   "id": "1373f3b6",
   "metadata": {},
   "outputs": [],
   "source": [
    "# Create DataLoaders for training and validation\n",
    "train_dl = DataLoader(training_set, batch_size, shuffle=True, num_workers=2, pin_memory=True)\n",
    "validation_dl = DataLoader(validation_set, batch_size*2, shuffle = True, num_workers=2, pin_memory=True)\n",
    "test_dl = DataLoader(test_Dataset, batch_size*2, shuffle=True, num_workers=2, pin_memory=True)"
   ]
  },
  {
   "cell_type": "code",
   "execution_count": 87,
   "id": "5bdb91ec",
   "metadata": {},
   "outputs": [],
   "source": [
    "# Create Network class and make helper methods for training and validation\n",
    "class Network(nn.Module):\n",
    "    def training_step(self, batch):\n",
    "        images, labels = batch\n",
    "        # Generate Predictions\n",
    "        out = self(images)\n",
    "        # Calculate Loss\n",
    "        loss = F.cross_entropy(out, labels)\n",
    "        return loss\n",
    "    \n",
    "    def validation_step(self, batch):\n",
    "        images, labels = batch\n",
    "        # Generate Predictions\n",
    "        out = self(images)\n",
    "        # Calculate Loss\n",
    "        loss = F.cross_entropy(out, labels)\n",
    "        # Calculate Accuracy\n",
    "        acc = accuracy(out, labels)\n",
    "        return{'val_loss': loss.detach(),'val_accuracy': acc}\n",
    "    \n",
    "    def validation_epoch_end(self, outputs):\n",
    "        batch_losses = [x['val_loss'] for x in outputs]\n",
    "        # Combine Losses\n",
    "        epoch_loss = torch.stack(batch_losses).mean()\n",
    "        batch_acc = [x['val_accuracy'] for x in outputs]\n",
    "        # Combine Accuracies\n",
    "        epoch_acc = torch.stack(batch_acc).mean()\n",
    "        return {'val_loss': epoch_loss.item(), 'val_accuracy': epoch_acc.item()}\n",
    "    \n",
    "    def epoch_end(self, epoch, result):\n",
    "        print(\"Epoch [{}], train loss: {:.3f}, val loss {:.3f}, val acc: {:.4f}\".format(\n",
    "            epoch, result['train_loss'], result['val_loss'], result['val_accuracy']))\n",
    "\n",
    "def accuracy(outputs, labels):\n",
    "    _, preds = torch.max(outputs, dim=1)\n",
    "    return torch.tensor(torch.sum(preds == labels).item() / len(preds))\n",
    "        "
   ]
  },
  {
   "cell_type": "code",
   "execution_count": 118,
   "id": "805a254c",
   "metadata": {},
   "outputs": [],
   "source": [
    "class CNNModel(Network):\n",
    "    def __init__(self, in_channels, num_classes):\n",
    "        super().__init__()\n",
    "        self.network = nn.Sequential(\n",
    "            nn.Conv2d(in_channels, 28, kernel_size=3, padding=1),\n",
    "            nn.ReLU(),\n",
    "            nn.Conv2d(28, 28, kernel_size=3, stride=1, padding=1),\n",
    "            nn.ReLU(),\n",
    "            nn.MaxPool2d(2,2), # Ouput image size: 28x14x14\n",
    "\n",
    "            nn.Conv2d(28, 56, kernel_size=3, stride=1, padding=1),\n",
    "            nn.ReLU(),\n",
    "            nn.Conv2d(56, 56, kernel_size=3, stride=1, padding=1),\n",
    "            nn.ReLU(),\n",
    "            nn.MaxPool2d(2,2), # Ouput image size: 56x7x7\n",
    "\n",
    "            nn.Flatten(),\n",
    "            nn.Linear(56*7*7, 512),\n",
    "            nn.ReLU(),\n",
    "            nn.Linear(512, 128),\n",
    "            nn.ReLU(),\n",
    "            nn.Linear(128, num_classes))\n",
    "    \n",
    "    def forward(self, xb):\n",
    "        return self.network(xb)"
   ]
  },
  {
   "cell_type": "code",
   "execution_count": 119,
   "id": "064168e2",
   "metadata": {},
   "outputs": [
    {
     "data": {
      "text/plain": [
       "CNNModel(\n",
       "  (network): Sequential(\n",
       "    (0): Conv2d(1, 28, kernel_size=(3, 3), stride=(1, 1), padding=(1, 1))\n",
       "    (1): ReLU()\n",
       "    (2): Conv2d(28, 28, kernel_size=(3, 3), stride=(1, 1), padding=(1, 1))\n",
       "    (3): ReLU()\n",
       "    (4): MaxPool2d(kernel_size=2, stride=2, padding=0, dilation=1, ceil_mode=False)\n",
       "    (5): Conv2d(28, 56, kernel_size=(3, 3), stride=(1, 1), padding=(1, 1))\n",
       "    (6): ReLU()\n",
       "    (7): Conv2d(56, 56, kernel_size=(3, 3), stride=(1, 1), padding=(1, 1))\n",
       "    (8): ReLU()\n",
       "    (9): MaxPool2d(kernel_size=2, stride=2, padding=0, dilation=1, ceil_mode=False)\n",
       "    (10): Flatten(start_dim=1, end_dim=-1)\n",
       "    (11): Linear(in_features=2744, out_features=512, bias=True)\n",
       "    (12): ReLU()\n",
       "    (13): Linear(in_features=512, out_features=128, bias=True)\n",
       "    (14): ReLU()\n",
       "    (15): Linear(in_features=128, out_features=26, bias=True)\n",
       "  )\n",
       ")"
      ]
     },
     "execution_count": 119,
     "metadata": {},
     "output_type": "execute_result"
    }
   ],
   "source": [
    "model = CNNModel(input_ch, classes)\n",
    "model"
   ]
  },
  {
   "cell_type": "code",
   "execution_count": 113,
   "id": "e7f75efd",
   "metadata": {},
   "outputs": [],
   "source": [
    "def to_device(data, device):\n",
    "    # Move Tensors to a chosen device\n",
    "    if isinstance(data, (list, tuple)):\n",
    "        return [to_device(x, device) for x in data]\n",
    "    return data.to(device, non_blocking=True)\n",
    "\n",
    "class DeviceDataLoader():\n",
    "    # Move Data to the device\n",
    "    def __init__(self, dl, device):\n",
    "        self.dl = dl\n",
    "        self.device = device\n",
    "    \n",
    "    def __iter__(self):\n",
    "        for batch in self.dl:\n",
    "            yield to_device(batch, self.device)\n",
    "            \n",
    "    def __len(self):\n",
    "        # Number of batches\n",
    "        return len(self.dl)"
   ]
  },
  {
   "cell_type": "code",
   "execution_count": 114,
   "id": "c374d0d9",
   "metadata": {},
   "outputs": [
    {
     "data": {
      "text/plain": [
       "device(type='cuda')"
      ]
     },
     "execution_count": 114,
     "metadata": {},
     "output_type": "execute_result"
    }
   ],
   "source": [
    "device = torch.device('cuda') if torch.cuda.is_available() else torch.device('cpu')\n",
    "device"
   ]
  },
  {
   "cell_type": "code",
   "execution_count": 115,
   "id": "9ccd664d",
   "metadata": {},
   "outputs": [
    {
     "name": "stdout",
     "output_type": "stream",
     "text": [
      "cuda\n",
      "cuda\n",
      "cuda\n"
     ]
    }
   ],
   "source": [
    "model = to_device(CNNModel(input_ch, classes), device)\n",
    "train_dl = DeviceDataLoader(train_dl, device)\n",
    "val_dl = DeviceDataLoader(validation_dl, device)\n",
    "test_dl = DeviceDataLoader(test_dl, device)\n",
    "\n",
    "print(train_dl.device)\n",
    "print(test_dl.device)\n",
    "print(val_dl.device)"
   ]
  },
  {
   "cell_type": "code",
   "execution_count": 116,
   "id": "273e7557",
   "metadata": {},
   "outputs": [],
   "source": [
    "# Training the Model\n",
    "\n",
    "@torch.no_grad()\n",
    "def evaluate(model, val_dl):\n",
    "    model.eval()\n",
    "    outputs = [model.validation_step(batch) for batch in val_dl]\n",
    "    return model.validation_epoch_end(outputs)\n",
    "\n",
    "def fit(epochs, lr, model, train_loader, val_loader, opt_func=torch.optim.SGD):\n",
    "    history = []\n",
    "    optimizer = opt_func(model.parameters(), lr)\n",
    "    for epoch in range(epochs):\n",
    "        # Training phase\n",
    "        model.train()\n",
    "        train_losses = []\n",
    "        for batch in train_loader:\n",
    "            loss = model.training_step(batch)\n",
    "            train_losses.append(loss)\n",
    "            loss.backward()\n",
    "            optimizer.step()\n",
    "            optimizer.zero_grad()\n",
    "            \n",
    "        # Validation phase\n",
    "        result = evaluate(model, val_loader)\n",
    "        result['train_loss'] = torch.stack(train_losses).mean().item()\n",
    "        model.epoch_end(epoch, result)\n",
    "        history.append(result)\n",
    "    return history"
   ]
  },
  {
   "cell_type": "code",
   "execution_count": 117,
   "id": "ab0aa250",
   "metadata": {},
   "outputs": [
    {
     "ename": "RuntimeError",
     "evalue": "mat1 and mat2 shapes cannot be multiplied (70x400 and 2744x512)",
     "output_type": "error",
     "traceback": [
      "\u001b[0;31m---------------------------------------------------------------------------\u001b[0m",
      "\u001b[0;31mRuntimeError\u001b[0m                              Traceback (most recent call last)",
      "Input \u001b[0;32mIn [117]\u001b[0m, in \u001b[0;36m<module>\u001b[0;34m\u001b[0m\n\u001b[0;32m----> 1\u001b[0m \u001b[43mevaluate\u001b[49m\u001b[43m(\u001b[49m\u001b[43mmodel\u001b[49m\u001b[43m,\u001b[49m\u001b[43m \u001b[49m\u001b[43mval_dl\u001b[49m\u001b[43m)\u001b[49m\n",
      "File \u001b[0;32m~/cv-env/lib/python3.9/site-packages/torch/autograd/grad_mode.py:28\u001b[0m, in \u001b[0;36m_DecoratorContextManager.__call__.<locals>.decorate_context\u001b[0;34m(*args, **kwargs)\u001b[0m\n\u001b[1;32m     25\u001b[0m \u001b[38;5;129m@functools\u001b[39m\u001b[38;5;241m.\u001b[39mwraps(func)\n\u001b[1;32m     26\u001b[0m \u001b[38;5;28;01mdef\u001b[39;00m \u001b[38;5;21mdecorate_context\u001b[39m(\u001b[38;5;241m*\u001b[39margs, \u001b[38;5;241m*\u001b[39m\u001b[38;5;241m*\u001b[39mkwargs):\n\u001b[1;32m     27\u001b[0m     \u001b[38;5;28;01mwith\u001b[39;00m \u001b[38;5;28mself\u001b[39m\u001b[38;5;241m.\u001b[39m\u001b[38;5;18m__class__\u001b[39m():\n\u001b[0;32m---> 28\u001b[0m         \u001b[38;5;28;01mreturn\u001b[39;00m \u001b[43mfunc\u001b[49m\u001b[43m(\u001b[49m\u001b[38;5;241;43m*\u001b[39;49m\u001b[43margs\u001b[49m\u001b[43m,\u001b[49m\u001b[43m \u001b[49m\u001b[38;5;241;43m*\u001b[39;49m\u001b[38;5;241;43m*\u001b[39;49m\u001b[43mkwargs\u001b[49m\u001b[43m)\u001b[49m\n",
      "Input \u001b[0;32mIn [116]\u001b[0m, in \u001b[0;36mevaluate\u001b[0;34m(model, val_dl)\u001b[0m\n\u001b[1;32m      3\u001b[0m \u001b[38;5;129m@torch\u001b[39m\u001b[38;5;241m.\u001b[39mno_grad()\n\u001b[1;32m      4\u001b[0m \u001b[38;5;28;01mdef\u001b[39;00m \u001b[38;5;21mevaluate\u001b[39m(model, val_dl):\n\u001b[1;32m      5\u001b[0m     model\u001b[38;5;241m.\u001b[39meval()\n\u001b[0;32m----> 6\u001b[0m     outputs \u001b[38;5;241m=\u001b[39m [model\u001b[38;5;241m.\u001b[39mvalidation_step(batch) \u001b[38;5;28;01mfor\u001b[39;00m batch \u001b[38;5;129;01min\u001b[39;00m val_dl]\n\u001b[1;32m      7\u001b[0m     \u001b[38;5;28;01mreturn\u001b[39;00m model\u001b[38;5;241m.\u001b[39mvalidation_epoch_end(outputs)\n",
      "Input \u001b[0;32mIn [116]\u001b[0m, in \u001b[0;36m<listcomp>\u001b[0;34m(.0)\u001b[0m\n\u001b[1;32m      3\u001b[0m \u001b[38;5;129m@torch\u001b[39m\u001b[38;5;241m.\u001b[39mno_grad()\n\u001b[1;32m      4\u001b[0m \u001b[38;5;28;01mdef\u001b[39;00m \u001b[38;5;21mevaluate\u001b[39m(model, val_dl):\n\u001b[1;32m      5\u001b[0m     model\u001b[38;5;241m.\u001b[39meval()\n\u001b[0;32m----> 6\u001b[0m     outputs \u001b[38;5;241m=\u001b[39m [\u001b[43mmodel\u001b[49m\u001b[38;5;241;43m.\u001b[39;49m\u001b[43mvalidation_step\u001b[49m\u001b[43m(\u001b[49m\u001b[43mbatch\u001b[49m\u001b[43m)\u001b[49m \u001b[38;5;28;01mfor\u001b[39;00m batch \u001b[38;5;129;01min\u001b[39;00m val_dl]\n\u001b[1;32m      7\u001b[0m     \u001b[38;5;28;01mreturn\u001b[39;00m model\u001b[38;5;241m.\u001b[39mvalidation_epoch_end(outputs)\n",
      "Input \u001b[0;32mIn [87]\u001b[0m, in \u001b[0;36mNetwork.validation_step\u001b[0;34m(self, batch)\u001b[0m\n\u001b[1;32m     12\u001b[0m images, labels \u001b[38;5;241m=\u001b[39m batch\n\u001b[1;32m     13\u001b[0m \u001b[38;5;66;03m# Generate Predictions\u001b[39;00m\n\u001b[0;32m---> 14\u001b[0m out \u001b[38;5;241m=\u001b[39m \u001b[38;5;28;43mself\u001b[39;49m\u001b[43m(\u001b[49m\u001b[43mimages\u001b[49m\u001b[43m)\u001b[49m\n\u001b[1;32m     15\u001b[0m \u001b[38;5;66;03m# Calculate Loss\u001b[39;00m\n\u001b[1;32m     16\u001b[0m loss \u001b[38;5;241m=\u001b[39m F\u001b[38;5;241m.\u001b[39mcross_entropy(out, labels)\n",
      "File \u001b[0;32m~/cv-env/lib/python3.9/site-packages/torch/nn/modules/module.py:1102\u001b[0m, in \u001b[0;36mModule._call_impl\u001b[0;34m(self, *input, **kwargs)\u001b[0m\n\u001b[1;32m   1098\u001b[0m \u001b[38;5;66;03m# If we don't have any hooks, we want to skip the rest of the logic in\u001b[39;00m\n\u001b[1;32m   1099\u001b[0m \u001b[38;5;66;03m# this function, and just call forward.\u001b[39;00m\n\u001b[1;32m   1100\u001b[0m \u001b[38;5;28;01mif\u001b[39;00m \u001b[38;5;129;01mnot\u001b[39;00m (\u001b[38;5;28mself\u001b[39m\u001b[38;5;241m.\u001b[39m_backward_hooks \u001b[38;5;129;01mor\u001b[39;00m \u001b[38;5;28mself\u001b[39m\u001b[38;5;241m.\u001b[39m_forward_hooks \u001b[38;5;129;01mor\u001b[39;00m \u001b[38;5;28mself\u001b[39m\u001b[38;5;241m.\u001b[39m_forward_pre_hooks \u001b[38;5;129;01mor\u001b[39;00m _global_backward_hooks\n\u001b[1;32m   1101\u001b[0m         \u001b[38;5;129;01mor\u001b[39;00m _global_forward_hooks \u001b[38;5;129;01mor\u001b[39;00m _global_forward_pre_hooks):\n\u001b[0;32m-> 1102\u001b[0m     \u001b[38;5;28;01mreturn\u001b[39;00m \u001b[43mforward_call\u001b[49m\u001b[43m(\u001b[49m\u001b[38;5;241;43m*\u001b[39;49m\u001b[38;5;28;43minput\u001b[39;49m\u001b[43m,\u001b[49m\u001b[43m \u001b[49m\u001b[38;5;241;43m*\u001b[39;49m\u001b[38;5;241;43m*\u001b[39;49m\u001b[43mkwargs\u001b[49m\u001b[43m)\u001b[49m\n\u001b[1;32m   1103\u001b[0m \u001b[38;5;66;03m# Do not call functions when jit is used\u001b[39;00m\n\u001b[1;32m   1104\u001b[0m full_backward_hooks, non_full_backward_hooks \u001b[38;5;241m=\u001b[39m [], []\n",
      "Input \u001b[0;32mIn [111]\u001b[0m, in \u001b[0;36mCNNModel.forward\u001b[0;34m(self, xb)\u001b[0m\n\u001b[1;32m     24\u001b[0m \u001b[38;5;28;01mdef\u001b[39;00m \u001b[38;5;21mforward\u001b[39m(\u001b[38;5;28mself\u001b[39m, xb):\n\u001b[0;32m---> 25\u001b[0m     \u001b[38;5;28;01mreturn\u001b[39;00m \u001b[38;5;28;43mself\u001b[39;49m\u001b[38;5;241;43m.\u001b[39;49m\u001b[43mnetwork\u001b[49m\u001b[43m(\u001b[49m\u001b[43mxb\u001b[49m\u001b[43m)\u001b[49m\n",
      "File \u001b[0;32m~/cv-env/lib/python3.9/site-packages/torch/nn/modules/module.py:1102\u001b[0m, in \u001b[0;36mModule._call_impl\u001b[0;34m(self, *input, **kwargs)\u001b[0m\n\u001b[1;32m   1098\u001b[0m \u001b[38;5;66;03m# If we don't have any hooks, we want to skip the rest of the logic in\u001b[39;00m\n\u001b[1;32m   1099\u001b[0m \u001b[38;5;66;03m# this function, and just call forward.\u001b[39;00m\n\u001b[1;32m   1100\u001b[0m \u001b[38;5;28;01mif\u001b[39;00m \u001b[38;5;129;01mnot\u001b[39;00m (\u001b[38;5;28mself\u001b[39m\u001b[38;5;241m.\u001b[39m_backward_hooks \u001b[38;5;129;01mor\u001b[39;00m \u001b[38;5;28mself\u001b[39m\u001b[38;5;241m.\u001b[39m_forward_hooks \u001b[38;5;129;01mor\u001b[39;00m \u001b[38;5;28mself\u001b[39m\u001b[38;5;241m.\u001b[39m_forward_pre_hooks \u001b[38;5;129;01mor\u001b[39;00m _global_backward_hooks\n\u001b[1;32m   1101\u001b[0m         \u001b[38;5;129;01mor\u001b[39;00m _global_forward_hooks \u001b[38;5;129;01mor\u001b[39;00m _global_forward_pre_hooks):\n\u001b[0;32m-> 1102\u001b[0m     \u001b[38;5;28;01mreturn\u001b[39;00m \u001b[43mforward_call\u001b[49m\u001b[43m(\u001b[49m\u001b[38;5;241;43m*\u001b[39;49m\u001b[38;5;28;43minput\u001b[39;49m\u001b[43m,\u001b[49m\u001b[43m \u001b[49m\u001b[38;5;241;43m*\u001b[39;49m\u001b[38;5;241;43m*\u001b[39;49m\u001b[43mkwargs\u001b[49m\u001b[43m)\u001b[49m\n\u001b[1;32m   1103\u001b[0m \u001b[38;5;66;03m# Do not call functions when jit is used\u001b[39;00m\n\u001b[1;32m   1104\u001b[0m full_backward_hooks, non_full_backward_hooks \u001b[38;5;241m=\u001b[39m [], []\n",
      "File \u001b[0;32m~/cv-env/lib/python3.9/site-packages/torch/nn/modules/container.py:141\u001b[0m, in \u001b[0;36mSequential.forward\u001b[0;34m(self, input)\u001b[0m\n\u001b[1;32m    139\u001b[0m \u001b[38;5;28;01mdef\u001b[39;00m \u001b[38;5;21mforward\u001b[39m(\u001b[38;5;28mself\u001b[39m, \u001b[38;5;28minput\u001b[39m):\n\u001b[1;32m    140\u001b[0m     \u001b[38;5;28;01mfor\u001b[39;00m module \u001b[38;5;129;01min\u001b[39;00m \u001b[38;5;28mself\u001b[39m:\n\u001b[0;32m--> 141\u001b[0m         \u001b[38;5;28minput\u001b[39m \u001b[38;5;241m=\u001b[39m \u001b[43mmodule\u001b[49m\u001b[43m(\u001b[49m\u001b[38;5;28;43minput\u001b[39;49m\u001b[43m)\u001b[49m\n\u001b[1;32m    142\u001b[0m     \u001b[38;5;28;01mreturn\u001b[39;00m \u001b[38;5;28minput\u001b[39m\n",
      "File \u001b[0;32m~/cv-env/lib/python3.9/site-packages/torch/nn/modules/module.py:1102\u001b[0m, in \u001b[0;36mModule._call_impl\u001b[0;34m(self, *input, **kwargs)\u001b[0m\n\u001b[1;32m   1098\u001b[0m \u001b[38;5;66;03m# If we don't have any hooks, we want to skip the rest of the logic in\u001b[39;00m\n\u001b[1;32m   1099\u001b[0m \u001b[38;5;66;03m# this function, and just call forward.\u001b[39;00m\n\u001b[1;32m   1100\u001b[0m \u001b[38;5;28;01mif\u001b[39;00m \u001b[38;5;129;01mnot\u001b[39;00m (\u001b[38;5;28mself\u001b[39m\u001b[38;5;241m.\u001b[39m_backward_hooks \u001b[38;5;129;01mor\u001b[39;00m \u001b[38;5;28mself\u001b[39m\u001b[38;5;241m.\u001b[39m_forward_hooks \u001b[38;5;129;01mor\u001b[39;00m \u001b[38;5;28mself\u001b[39m\u001b[38;5;241m.\u001b[39m_forward_pre_hooks \u001b[38;5;129;01mor\u001b[39;00m _global_backward_hooks\n\u001b[1;32m   1101\u001b[0m         \u001b[38;5;129;01mor\u001b[39;00m _global_forward_hooks \u001b[38;5;129;01mor\u001b[39;00m _global_forward_pre_hooks):\n\u001b[0;32m-> 1102\u001b[0m     \u001b[38;5;28;01mreturn\u001b[39;00m \u001b[43mforward_call\u001b[49m\u001b[43m(\u001b[49m\u001b[38;5;241;43m*\u001b[39;49m\u001b[38;5;28;43minput\u001b[39;49m\u001b[43m,\u001b[49m\u001b[43m \u001b[49m\u001b[38;5;241;43m*\u001b[39;49m\u001b[38;5;241;43m*\u001b[39;49m\u001b[43mkwargs\u001b[49m\u001b[43m)\u001b[49m\n\u001b[1;32m   1103\u001b[0m \u001b[38;5;66;03m# Do not call functions when jit is used\u001b[39;00m\n\u001b[1;32m   1104\u001b[0m full_backward_hooks, non_full_backward_hooks \u001b[38;5;241m=\u001b[39m [], []\n",
      "File \u001b[0;32m~/cv-env/lib/python3.9/site-packages/torch/nn/modules/linear.py:103\u001b[0m, in \u001b[0;36mLinear.forward\u001b[0;34m(self, input)\u001b[0m\n\u001b[1;32m    102\u001b[0m \u001b[38;5;28;01mdef\u001b[39;00m \u001b[38;5;21mforward\u001b[39m(\u001b[38;5;28mself\u001b[39m, \u001b[38;5;28minput\u001b[39m: Tensor) \u001b[38;5;241m-\u001b[39m\u001b[38;5;241m>\u001b[39m Tensor:\n\u001b[0;32m--> 103\u001b[0m     \u001b[38;5;28;01mreturn\u001b[39;00m \u001b[43mF\u001b[49m\u001b[38;5;241;43m.\u001b[39;49m\u001b[43mlinear\u001b[49m\u001b[43m(\u001b[49m\u001b[38;5;28;43minput\u001b[39;49m\u001b[43m,\u001b[49m\u001b[43m \u001b[49m\u001b[38;5;28;43mself\u001b[39;49m\u001b[38;5;241;43m.\u001b[39;49m\u001b[43mweight\u001b[49m\u001b[43m,\u001b[49m\u001b[43m \u001b[49m\u001b[38;5;28;43mself\u001b[39;49m\u001b[38;5;241;43m.\u001b[39;49m\u001b[43mbias\u001b[49m\u001b[43m)\u001b[49m\n",
      "File \u001b[0;32m~/cv-env/lib/python3.9/site-packages/torch/nn/functional.py:1848\u001b[0m, in \u001b[0;36mlinear\u001b[0;34m(input, weight, bias)\u001b[0m\n\u001b[1;32m   1846\u001b[0m \u001b[38;5;28;01mif\u001b[39;00m has_torch_function_variadic(\u001b[38;5;28minput\u001b[39m, weight, bias):\n\u001b[1;32m   1847\u001b[0m     \u001b[38;5;28;01mreturn\u001b[39;00m handle_torch_function(linear, (\u001b[38;5;28minput\u001b[39m, weight, bias), \u001b[38;5;28minput\u001b[39m, weight, bias\u001b[38;5;241m=\u001b[39mbias)\n\u001b[0;32m-> 1848\u001b[0m \u001b[38;5;28;01mreturn\u001b[39;00m \u001b[43mtorch\u001b[49m\u001b[38;5;241;43m.\u001b[39;49m\u001b[43m_C\u001b[49m\u001b[38;5;241;43m.\u001b[39;49m\u001b[43m_nn\u001b[49m\u001b[38;5;241;43m.\u001b[39;49m\u001b[43mlinear\u001b[49m\u001b[43m(\u001b[49m\u001b[38;5;28;43minput\u001b[39;49m\u001b[43m,\u001b[49m\u001b[43m \u001b[49m\u001b[43mweight\u001b[49m\u001b[43m,\u001b[49m\u001b[43m \u001b[49m\u001b[43mbias\u001b[49m\u001b[43m)\u001b[49m\n",
      "\u001b[0;31mRuntimeError\u001b[0m: mat1 and mat2 shapes cannot be multiplied (70x400 and 2744x512)"
     ]
    }
   ],
   "source": [
    "evaluate(model, val_dl)"
   ]
  },
  {
   "cell_type": "code",
   "execution_count": 103,
   "id": "4e454bf6",
   "metadata": {
    "scrolled": true
   },
   "outputs": [
    {
     "name": "stdout",
     "output_type": "stream",
     "text": [
      "Epoch [0], train loss: 0.007, val loss 0.006, val acc: 0.9999\n",
      "Epoch [1], train loss: 0.004, val loss 0.004, val acc: 0.9997\n",
      "Epoch [2], train loss: 0.004, val loss 0.004, val acc: 0.9999\n",
      "Epoch [3], train loss: 0.002, val loss 0.003, val acc: 0.9997\n",
      "Epoch [4], train loss: 0.002, val loss 0.003, val acc: 0.9999\n"
     ]
    }
   ],
   "source": [
    "history = fit(num_epochs, learning_rate , model, train_dl, val_dl, opt_func)\n"
   ]
  },
  {
   "cell_type": "code",
   "execution_count": 104,
   "id": "c2400801",
   "metadata": {},
   "outputs": [
    {
     "data": {
      "text/plain": [
       "{'val_loss': 0.5233004689216614, 'val_accuracy': 0.8751214742660522}"
      ]
     },
     "execution_count": 104,
     "metadata": {},
     "output_type": "execute_result"
    }
   ],
   "source": [
    "# Test with the tetsing dataloader\n",
    "result = evaluate(model, test_dl)\n",
    "result"
   ]
  },
  {
   "cell_type": "code",
   "execution_count": 105,
   "id": "ff4aa4e4",
   "metadata": {},
   "outputs": [],
   "source": [
    "import matplotlib.pyplot as plt\n",
    "\n",
    "def plot_losses(history):\n",
    "    train_losses = [x.get('train_loss') for x in history]\n",
    "    val_losses = [x['val_loss'] for x in history]\n",
    "    plt.plot(train_losses, '-bx')\n",
    "    plt.plot(val_losses, '-rx')\n",
    "    plt.xlabel('epoch')\n",
    "    plt.ylabel('loss')\n",
    "    plt.legend(['Training', 'Validation'])\n",
    "    plt.title('Loss vs. No. of epochs');"
   ]
  },
  {
   "cell_type": "code",
   "execution_count": 106,
   "id": "5478988e",
   "metadata": {},
   "outputs": [
    {
     "data": {
      "image/png": "[encoded data removed]",
      "text/plain": [
       "<Figure size 432x288 with 1 Axes>"
      ]
     },
     "metadata": {
      "needs_background": "light"
     },
     "output_type": "display_data"
    }
   ],
   "source": [
    "plot_losses(history)\n"
   ]
  },
  {
   "cell_type": "code",
   "execution_count": 107,
   "id": "5f2d50a6",
   "metadata": {},
   "outputs": [],
   "source": [
    "def predict_image(img, model):\n",
    "    # Convert to a batch of 1\n",
    "    xb = to_device(img.unsqueeze(0), device)\n",
    "    # Get predictions from model\n",
    "    yb = model(xb)\n",
    "    # Pick index with highest probability\n",
    "    _, preds  = torch.max(yb, dim=1)\n",
    "    # Retrieve the class label\n",
    "    return preds[0].item()"
   ]
  },
  {
   "cell_type": "code",
   "execution_count": 108,
   "id": "869df177",
   "metadata": {},
   "outputs": [
    {
     "name": "stdout",
     "output_type": "stream",
     "text": [
      "Label: tensor(6) , Predicted: 6\n",
      "Label: tensor(5) , Predicted: 5\n",
      "Label: tensor(10) , Predicted: 10\n",
      "Label: tensor(0) , Predicted: 0\n",
      "Label: tensor(3) , Predicted: 3\n",
      "Label: tensor(21) , Predicted: 21\n",
      "Label: tensor(10) , Predicted: 17\n",
      "Label: tensor(14) , Predicted: 14\n",
      "Label: tensor(3) , Predicted: 3\n",
      "Label: tensor(7) , Predicted: 7\n"
     ]
    }
   ],
   "source": [
    "for x in range(10):\n",
    "    img, label = test_Dataset[x]\n",
    "    print('Label:', label, ', Predicted:', predict_image(img, model))\n",
    "    "
   ]
  },
  {
   "cell_type": "code",
   "execution_count": 110,
   "id": "740d1f25",
   "metadata": {},
   "outputs": [
    {
     "name": "stdout",
     "output_type": "stream",
     "text": [
      "graph(%input.1 : Float(1, 1, 28, 28, strides=[784, 784, 28, 1], requires_grad=0, device=cuda:0),\n",
      "      %network.0.weight : Float(28, 1, 3, 3, strides=[9, 9, 3, 1], requires_grad=1, device=cuda:0),\n",
      "      %network.0.bias : Float(28, strides=[1], requires_grad=1, device=cuda:0),\n",
      "      %network.2.weight : Float(28, 28, 3, 3, strides=[252, 9, 3, 1], requires_grad=1, device=cuda:0),\n",
      "      %network.2.bias : Float(28, strides=[1], requires_grad=1, device=cuda:0),\n",
      "      %network.5.weight : Float(56, 28, 3, 3, strides=[252, 9, 3, 1], requires_grad=1, device=cuda:0),\n",
      "      %network.5.bias : Float(56, strides=[1], requires_grad=1, device=cuda:0),\n",
      "      %network.7.weight : Float(56, 56, 3, 3, strides=[504, 9, 3, 1], requires_grad=1, device=cuda:0),\n",
      "      %network.7.bias : Float(56, strides=[1], requires_grad=1, device=cuda:0),\n",
      "      %network.11.weight : Float(512, 2744, strides=[2744, 1], requires_grad=1, device=cuda:0),\n",
      "      %network.11.bias : Float(512, strides=[1], requires_grad=1, device=cuda:0),\n",
      "      %network.13.weight : Float(128, 512, strides=[512, 1], requires_grad=1, device=cuda:0),\n",
      "      %network.13.bias : Float(128, strides=[1], requires_grad=1, device=cuda:0),\n",
      "      %network.15.weight : Float(26, 128, strides=[128, 1], requires_grad=1, device=cuda:0),\n",
      "      %network.15.bias : Float(26, strides=[1], requires_grad=1, device=cuda:0)):\n",
      "  %15 : Float(1, 28, 28, 28, strides=[21952, 784, 28, 1], requires_grad=1, device=cuda:0) = onnx::Conv[dilations=[1, 1], group=1, kernel_shape=[3, 3], pads=[1, 1, 1, 1], strides=[1, 1]](%input.1, %network.0.weight, %network.0.bias) # /home/ayon_chakroborty/cv-env/lib/python3.9/site-packages/torch/nn/modules/conv.py:442:0\n",
      "  %16 : Float(1, 28, 28, 28, strides=[21952, 784, 28, 1], requires_grad=1, device=cuda:0) = onnx::Relu(%15) # /home/ayon_chakroborty/cv-env/lib/python3.9/site-packages/torch/nn/functional.py:1299:0\n",
      "  %17 : Float(1, 28, 28, 28, strides=[21952, 784, 28, 1], requires_grad=1, device=cuda:0) = onnx::Conv[dilations=[1, 1], group=1, kernel_shape=[3, 3], pads=[1, 1, 1, 1], strides=[1, 1]](%16, %network.2.weight, %network.2.bias) # /home/ayon_chakroborty/cv-env/lib/python3.9/site-packages/torch/nn/modules/conv.py:442:0\n",
      "  %18 : Float(1, 28, 28, 28, strides=[21952, 784, 28, 1], requires_grad=1, device=cuda:0) = onnx::Relu(%17) # /home/ayon_chakroborty/cv-env/lib/python3.9/site-packages/torch/nn/functional.py:1299:0\n",
      "  %19 : Float(1, 28, 14, 14, strides=[5488, 196, 14, 1], requires_grad=1, device=cuda:0) = onnx::MaxPool[kernel_shape=[2, 2], pads=[0, 0, 0, 0], strides=[2, 2]](%18) # /home/ayon_chakroborty/cv-env/lib/python3.9/site-packages/torch/nn/functional.py:719:0\n",
      "  %20 : Float(1, 56, 14, 14, strides=[10976, 196, 14, 1], requires_grad=1, device=cuda:0) = onnx::Conv[dilations=[1, 1], group=1, kernel_shape=[3, 3], pads=[1, 1, 1, 1], strides=[1, 1]](%19, %network.5.weight, %network.5.bias) # /home/ayon_chakroborty/cv-env/lib/python3.9/site-packages/torch/nn/modules/conv.py:442:0\n",
      "  %21 : Float(1, 56, 14, 14, strides=[10976, 196, 14, 1], requires_grad=1, device=cuda:0) = onnx::Relu(%20) # /home/ayon_chakroborty/cv-env/lib/python3.9/site-packages/torch/nn/functional.py:1299:0\n",
      "  %22 : Float(1, 56, 14, 14, strides=[10976, 196, 14, 1], requires_grad=1, device=cuda:0) = onnx::Conv[dilations=[1, 1], group=1, kernel_shape=[3, 3], pads=[1, 1, 1, 1], strides=[1, 1]](%21, %network.7.weight, %network.7.bias) # /home/ayon_chakroborty/cv-env/lib/python3.9/site-packages/torch/nn/modules/conv.py:442:0\n",
      "  %23 : Float(1, 56, 14, 14, strides=[10976, 196, 14, 1], requires_grad=1, device=cuda:0) = onnx::Relu(%22) # /home/ayon_chakroborty/cv-env/lib/python3.9/site-packages/torch/nn/functional.py:1299:0\n",
      "  %24 : Float(1, 56, 7, 7, strides=[2744, 49, 7, 1], requires_grad=1, device=cuda:0) = onnx::MaxPool[kernel_shape=[2, 2], pads=[0, 0, 0, 0], strides=[2, 2]](%23) # /home/ayon_chakroborty/cv-env/lib/python3.9/site-packages/torch/nn/functional.py:719:0\n",
      "  %25 : Float(1, 2744, strides=[2744, 1], requires_grad=1, device=cuda:0) = onnx::Flatten[axis=1](%24) # /home/ayon_chakroborty/cv-env/lib/python3.9/site-packages/torch/nn/modules/flatten.py:42:0\n",
      "  %26 : Float(1, 512, strides=[512, 1], requires_grad=1, device=cuda:0) = onnx::Gemm[alpha=1., beta=1., transB=1](%25, %network.11.weight, %network.11.bias) # /home/ayon_chakroborty/cv-env/lib/python3.9/site-packages/torch/nn/functional.py:1848:0\n",
      "  %27 : Float(1, 512, strides=[512, 1], requires_grad=1, device=cuda:0) = onnx::Relu(%26) # /home/ayon_chakroborty/cv-env/lib/python3.9/site-packages/torch/nn/functional.py:1299:0\n",
      "  %28 : Float(1, 128, strides=[128, 1], requires_grad=1, device=cuda:0) = onnx::Gemm[alpha=1., beta=1., transB=1](%27, %network.13.weight, %network.13.bias) # /home/ayon_chakroborty/cv-env/lib/python3.9/site-packages/torch/nn/functional.py:1848:0\n",
      "  %29 : Float(1, 128, strides=[128, 1], requires_grad=1, device=cuda:0) = onnx::Relu(%28) # /home/ayon_chakroborty/cv-env/lib/python3.9/site-packages/torch/nn/functional.py:1299:0\n",
      "  %30 : Float(1, 26, strides=[26, 1], requires_grad=1, device=cuda:0) = onnx::Gemm[alpha=1., beta=1., transB=1](%29, %network.15.weight, %network.15.bias) # /home/ayon_chakroborty/cv-env/lib/python3.9/site-packages/torch/nn/functional.py:1848:0\n",
      "  return (%30)\n",
      "\n"
     ]
    }
   ],
   "source": [
    "# Save Pytorch Model\n",
    "FILE = \"/home/ayon_chakroborty/Desktop/Cardano DNN/model3.pth\"\n",
    "torch.save(model.state_dict(), FILE)\n",
    "\n",
    "onnx_model_path = \"/home/ayon_chakroborty/Desktop/Cardano DNN/CNNmodel_version_3.onnx\"\n",
    "x = torch.randn(1, 1, 28, 28, device='cuda') # Sample input in the shape that the model expects\n",
    "torch.onnx.export(model, x, onnx_model_path, verbose=True)\n"
   ]
  },
  {
   "cell_type": "code",
   "execution_count": null,
   "id": "8637ca86",
   "metadata": {},
   "outputs": [],
   "source": []
  }
 ],
 "metadata": {
  "kernelspec": {
   "display_name": "Python 3 (ipykernel)",
   "language": "python",
   "name": "python3"
  },
  "language_info": {
   "codemirror_mode": {
    "name": "ipython",
    "version": 3
   },
   "file_extension": ".py",
   "mimetype": "text/x-python",
   "name": "python",
   "nbconvert_exporter": "python",
   "pygments_lexer": "ipython3",
   "version": "3.9.5"
  }
 },
 "nbformat": 4,
 "nbformat_minor": 5
}
